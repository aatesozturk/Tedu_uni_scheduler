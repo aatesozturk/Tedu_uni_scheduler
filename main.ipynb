{
 "cells": [
  {
   "cell_type": "code",
   "execution_count": 203,
   "metadata": {},
   "outputs": [],
   "source": [
    "import pandas as pd"
   ]
  },
  {
   "cell_type": "code",
   "execution_count": 204,
   "metadata": {},
   "outputs": [],
   "source": [
    "data = pd.read_excel(\"Courses.xlsx\", engine=\"openpyxl\")"
   ]
  },
  {
   "cell_type": "code",
   "execution_count": 205,
   "metadata": {},
   "outputs": [
    {
     "data": {
      "text/plain": [
       "Index(['Unnamed: 0', 'Year', 'Period', 'Code', 'Name', 'Section', 'Dept.', 'T',\n",
       "       'P', 'L', 'Cr', 'ECTS', 'Category', 'Lecturer', 'Room', 'Schedule',\n",
       "       '# of Students', 'Successfull', 'Unsuccessfull', 'Conditional',\n",
       "       'Withdrawn', 'Average', 'Staff ID'],\n",
       "      dtype='object')"
      ]
     },
     "execution_count": 205,
     "metadata": {},
     "output_type": "execute_result"
    }
   ],
   "source": [
    "data.columns"
   ]
  },
  {
   "cell_type": "code",
   "execution_count": 206,
   "metadata": {},
   "outputs": [
    {
     "data": {
      "text/plain": [
       "'\\ndata.Schedule\\ndata.Section\\ndata.Code\\n'"
      ]
     },
     "execution_count": 206,
     "metadata": {},
     "output_type": "execute_result"
    }
   ],
   "source": [
    "\"\"\"\n",
    "data.Schedule\n",
    "data.Section\n",
    "data.Code\n",
    "\"\"\""
   ]
  },
  {
   "cell_type": "code",
   "execution_count": 207,
   "metadata": {},
   "outputs": [],
   "source": [
    "drop_columns = ['Unnamed: 0', 'Year', 'Period', 'Name', 'Dept.', 'T',\n",
    "       'P', 'L', 'Cr', 'ECTS', 'Category', 'Lecturer', 'Room',\n",
    "       '# of Students', 'Successfull', 'Unsuccessfull', 'Conditional',\n",
    "       'Withdrawn', 'Average', 'Staff ID']\n",
    "data.drop(drop_columns, axis=1, inplace=True)\n"
   ]
  },
  {
   "cell_type": "code",
   "execution_count": 235,
   "metadata": {},
   "outputs": [
    {
     "name": "stdout",
     "output_type": "stream",
     "text": [
      "Non-conflicting schedules found:\n",
      "Schedule 1:\n",
      "Days: ['Mo'], Start Times: [13], End Times: [16]\n",
      "Days: ['We', 'Fr'], Start Times: [9, 11], End Times: [11, 13]\n",
      "Days: ['We'], Start Times: [13], End Times: [16]\n",
      "Days: ['Th'], Start Times: [13], End Times: [16]\n",
      "Days: ['Mo', 'Th'], Start Times: [9, 17], End Times: [12, 19]\n",
      "Days: ['Tu'], Start Times: [15], End Times: [18]\n",
      "Days: ['We'], Start Times: [18], End Times: [21]\n",
      "\n",
      "Schedule 2:\n",
      "Days: ['Mo'], Start Times: [13], End Times: [16]\n",
      "Days: ['We', 'Fr'], Start Times: [9, 11], End Times: [11, 13]\n",
      "Days: ['Fr'], Start Times: [14], End Times: [17]\n",
      "Days: ['Th'], Start Times: [13], End Times: [16]\n",
      "Days: ['Mo', 'Th'], Start Times: [9, 17], End Times: [12, 19]\n",
      "Days: ['Tu'], Start Times: [15], End Times: [18]\n",
      "Days: ['We'], Start Times: [18], End Times: [21]\n",
      "\n"
     ]
    }
   ],
   "source": [
    "from itertools import product\n",
    "from collections import defaultdict\n",
    "import re\n",
    "import pandas as pd\n",
    "\n",
    "class Section:\n",
    "    def __init__(self, section_info):\n",
    "        self.days = []\n",
    "        self.start_times = []\n",
    "        self.end_times = []\n",
    "\n",
    "        for info in section_info:\n",
    "            self.days.append(info[0])\n",
    "            self.start_times.append(info[1])\n",
    "            self.end_times.append(info[2])\n",
    "\n",
    "    def __str__(self):\n",
    "        return f\"Days: {self.days}, Start Times: {self.start_times}, End Times: {self.end_times}\"\n",
    "\n",
    "class Scheduler:\n",
    "    def __init__(self):\n",
    "        self.courses = {}\n",
    "        self.schedule = defaultdict(list)\n",
    "\n",
    "    def extract_days_and_times(self, section):\n",
    "        \"\"\"\n",
    "        Extracts days and times from the section string.\n",
    "        \"\"\"\n",
    "        pattern = r'(\\w{2})\\s(\\d{2})\\s-\\s(\\d{2})'\n",
    "        matches = re.findall(pattern, section)\n",
    "        \n",
    "        results = []\n",
    "        for match in matches:\n",
    "            day, start_time, end_time = match\n",
    "            results.append((day, int(start_time), int(end_time)))\n",
    "        \n",
    "        return results\n",
    "\n",
    "    def add_course(self, code, data):\n",
    "        \"\"\"\n",
    "        Adds a course with its sections.\n",
    "        \"\"\"\n",
    "        sections = [Section(self.extract_days_and_times(x)) for x in data[data['Code'] == code]['Schedule'].tolist()]\n",
    "        self.courses[code] = {\"code\": code, \"sections\": sections}\n",
    "\n",
    "    def print_courses(self):\n",
    "        \"\"\"\n",
    "        Prints the details of all courses and their sections.\n",
    "        \"\"\"\n",
    "        if not self.courses:\n",
    "            print(\"No courses available.\")\n",
    "            return\n",
    "        \n",
    "        for code, course_info in self.courses.items():\n",
    "            print(f\"Course Code: {code}\")\n",
    "            for section in course_info[\"sections\"]:\n",
    "                print(f\"   {section}\")\n",
    "\n",
    "    def sections_conflict(self, sec1, sec2):\n",
    "        \"\"\"\n",
    "        Checks if two sections conflict in time and day.\n",
    "        \"\"\"\n",
    "        days1 = set(sec1.days)\n",
    "        days2 = set(sec2.days)\n",
    "\n",
    "        common_days = days1.intersection(days2)\n",
    "\n",
    "        for day in common_days:\n",
    "            for start1, end1 in zip(sec1.start_times, sec1.end_times):\n",
    "                for start2, end2 in zip(sec2.start_times, sec2.end_times):\n",
    "                    if not (end1 <= start2 or start1 >= end2):\n",
    "                        return True\n",
    "        return False\n",
    "\n",
    "    def find_all_non_conflicting_schedules(self):\n",
    "        \"\"\"\n",
    "        Finds all non-conflicting schedules by selecting one section per course.\n",
    "        \"\"\"\n",
    "        course_codes = list(self.courses.keys())\n",
    "        sections_lists = [self.courses[code]['sections'] for code in course_codes]\n",
    "        \n",
    "        all_combinations = product(*sections_lists)\n",
    "\n",
    "        def has_conflict(combination):\n",
    "            \"\"\"\n",
    "            Checks if the given combination of sections has any conflicts.\n",
    "            \"\"\"\n",
    "            for i in range(len(combination)):\n",
    "                for j in range(i + 1, len(combination)):\n",
    "                    if self.sections_conflict(combination[i], combination[j]):\n",
    "                        return True\n",
    "            return False\n",
    "\n",
    "        valid_schedules = []\n",
    "        for combination in all_combinations:\n",
    "            if not has_conflict(combination):\n",
    "                valid_schedules.append(combination)\n",
    "\n",
    "        if valid_schedules:\n",
    "            print(\"Non-conflicting schedules found:\")\n",
    "            for idx, schedule in enumerate(valid_schedules):\n",
    "                print(f\"Schedule {idx + 1}:\")\n",
    "                for section in schedule:\n",
    "                    print(section)\n",
    "                print()\n",
    "        else:\n",
    "            print(\"No non-conflicting schedules found.\")\n",
    "\n",
    "\n",
    "sc = Scheduler()\n",
    "sc.add_course(\"CMPE 327\", data)\n",
    "sc.add_course(\"CMPE 361\", data)\n",
    "sc.add_course(\"CMPE 371\", data)\n",
    "sc.add_course(\"SPA 101\", data)\n",
    "sc.add_course(\"ECON 102\", data)\n",
    "sc.add_course(\"PSY 104\", data)\n",
    "sc.add_course(\"CMPE 421\", data)\n",
    "\n",
    "sc.find_all_non_conflicting_schedules()\n"
   ]
  }
 ],
 "metadata": {
  "kernelspec": {
   "display_name": "py310",
   "language": "python",
   "name": "python3"
  },
  "language_info": {
   "codemirror_mode": {
    "name": "ipython",
    "version": 3
   },
   "file_extension": ".py",
   "mimetype": "text/x-python",
   "name": "python",
   "nbconvert_exporter": "python",
   "pygments_lexer": "ipython3",
   "version": "3.10.0"
  }
 },
 "nbformat": 4,
 "nbformat_minor": 2
}
